{
  "nbformat": 4,
  "nbformat_minor": 0,
  "metadata": {
    "colab": {
      "provenance": [],
      "authorship_tag": "ABX9TyMhnkHcwj7M0ttpsrRnA9WL",
      "include_colab_link": true
    },
    "kernelspec": {
      "name": "python3",
      "display_name": "Python 3"
    },
    "language_info": {
      "name": "python"
    }
  },
  "cells": [
    {
      "cell_type": "markdown",
      "metadata": {
        "id": "view-in-github",
        "colab_type": "text"
      },
      "source": [
        "<a href=\"https://colab.research.google.com/github/PSY21801028/SYPark-HGU/blob/main/Python_Intro.ipynb\" target=\"_parent\"><img src=\"https://colab.research.google.com/assets/colab-badge.svg\" alt=\"Open In Colab\"/></a>"
      ]
    },
    {
      "cell_type": "markdown",
      "source": [
        "## Python 기본 사용 예시"
      ],
      "metadata": {
        "id": "ty72sXmFAp94"
      }
    },
    {
      "cell_type": "code",
      "execution_count": 2,
      "metadata": {
        "colab": {
          "base_uri": "https://localhost:8080/"
        },
        "id": "UXpfKgQn8CkZ",
        "outputId": "de96f632-cd0c-4ebb-d64f-7c39be187306"
      },
      "outputs": [
        {
          "output_type": "stream",
          "name": "stdout",
          "text": [
            "Hello, World!\n"
          ]
        }
      ],
      "source": [
        "print(\"Hello, World!\")"
      ]
    },
    {
      "cell_type": "code",
      "source": [
        "for x in range(1,10):\n",
        "    y = 2 * x*x\n",
        "    y = y + 3 * x\n",
        "    y = y + 5"
      ],
      "metadata": {
        "id": "9xIBx2yu8RQC"
      },
      "execution_count": 8,
      "outputs": []
    },
    {
      "cell_type": "code",
      "source": [
        "print(y)"
      ],
      "metadata": {
        "colab": {
          "base_uri": "https://localhost:8080/"
        },
        "id": "aEtR6i_m9BFm",
        "outputId": "1d09f942-e11f-4667-a224-201d47d173a8"
      },
      "execution_count": 9,
      "outputs": [
        {
          "output_type": "stream",
          "name": "stdout",
          "text": [
            "194\n"
          ]
        }
      ]
    },
    {
      "cell_type": "code",
      "source": [
        "x='Hello'\n",
        "y='world'\n",
        "z=x+' '+y"
      ],
      "metadata": {
        "id": "U9bluiMX9S70"
      },
      "execution_count": 1,
      "outputs": []
    },
    {
      "cell_type": "code",
      "source": [
        "z"
      ],
      "metadata": {
        "colab": {
          "base_uri": "https://localhost:8080/",
          "height": 35
        },
        "id": "jb4x4qdG_bN9",
        "outputId": "55416755-f799-449c-be78-a17275c1fb17"
      },
      "execution_count": 2,
      "outputs": [
        {
          "output_type": "execute_result",
          "data": {
            "text/plain": [
              "'Hello world'"
            ],
            "application/vnd.google.colaboratory.intrinsic+json": {
              "type": "string"
            }
          },
          "metadata": {},
          "execution_count": 2
        }
      ]
    },
    {
      "cell_type": "markdown",
      "source": [
        "## List 사용 예시"
      ],
      "metadata": {
        "id": "54MwBEV5_30p"
      }
    },
    {
      "cell_type": "code",
      "source": [
        "x=[2,1,4,6] # [] square bracket 은 list 표시다\n",
        "y=[1,3.5,'HGU']\n",
        "y[0:2]"
      ],
      "metadata": {
        "colab": {
          "base_uri": "https://localhost:8080/"
        },
        "id": "UbXRC9TI_dVP",
        "outputId": "b3cd1ebe-31c9-4890-f55f-055fc6d156b2"
      },
      "execution_count": 3,
      "outputs": [
        {
          "output_type": "execute_result",
          "data": {
            "text/plain": [
              "[1, 3.5]"
            ]
          },
          "metadata": {},
          "execution_count": 3
        }
      ]
    },
    {
      "cell_type": "code",
      "source": [
        "y[1:] # from index 1 to the end"
      ],
      "metadata": {
        "colab": {
          "base_uri": "https://localhost:8080/"
        },
        "id": "CvHrk94L_reg",
        "outputId": "eb7e8df0-c503-4a63-d8ee-7589340fdf84"
      },
      "execution_count": 4,
      "outputs": [
        {
          "output_type": "execute_result",
          "data": {
            "text/plain": [
              "[3.5, 'HGU']"
            ]
          },
          "metadata": {},
          "execution_count": 4
        }
      ]
    },
    {
      "cell_type": "markdown",
      "source": [
        "## slice operator"
      ],
      "metadata": {
        "id": "muax4HQAAAlI"
      }
    },
    {
      "cell_type": "code",
      "source": [
        "a = [1,2,3,4,5]\n",
        "\n",
        "print(a[0:2])\n",
        "\n",
        "print(a[0:-1])\n",
        "\n",
        "print(a[::-1])\n",
        "\n",
        "print(a[::2])\n",
        "\n",
        "print(a[::-2])"
      ],
      "metadata": {
        "colab": {
          "base_uri": "https://localhost:8080/"
        },
        "id": "50fDWmEh__aF",
        "outputId": "d83a8fe2-2b2a-41d3-9367-0ba9e376e6a9"
      },
      "execution_count": 6,
      "outputs": [
        {
          "output_type": "stream",
          "name": "stdout",
          "text": [
            "[1, 2]\n",
            "[1, 2, 3, 4]\n",
            "[5, 4, 3, 2, 1]\n",
            "[1, 3, 5]\n",
            "[5, 3, 1]\n"
          ]
        }
      ]
    },
    {
      "cell_type": "markdown",
      "source": [
        "## List reassign & reference & copy"
      ],
      "metadata": {
        "id": "MT7HBm0vBJfJ"
      }
    },
    {
      "cell_type": "code",
      "source": [
        "x = ['i','love','you']"
      ],
      "metadata": {
        "id": "vQ0ft0v4AvKa"
      },
      "execution_count": 1,
      "outputs": []
    },
    {
      "cell_type": "code",
      "source": [
        "x"
      ],
      "metadata": {
        "colab": {
          "base_uri": "https://localhost:8080/"
        },
        "id": "kVDNeLsUA9sg",
        "outputId": "16b7a8c0-b4d8-4b74-f0dd-1246a98cda5a"
      },
      "execution_count": 2,
      "outputs": [
        {
          "output_type": "execute_result",
          "data": {
            "text/plain": [
              "['i', 'love', 'you']"
            ]
          },
          "metadata": {},
          "execution_count": 2
        }
      ]
    },
    {
      "cell_type": "code",
      "source": [
        "x[2] = 'hgu'"
      ],
      "metadata": {
        "id": "FNpy-3KbA7h1"
      },
      "execution_count": 3,
      "outputs": []
    },
    {
      "cell_type": "code",
      "source": [
        "x"
      ],
      "metadata": {
        "colab": {
          "base_uri": "https://localhost:8080/"
        },
        "id": "dRs25I8uBDqs",
        "outputId": "41482b88-9a8c-41da-dc8f-dc81b6d52215"
      },
      "execution_count": 4,
      "outputs": [
        {
          "output_type": "execute_result",
          "data": {
            "text/plain": [
              "['i', 'love', 'hgu']"
            ]
          },
          "metadata": {},
          "execution_count": 4
        }
      ]
    },
    {
      "cell_type": "code",
      "source": [
        "x = ['i','love','you']"
      ],
      "metadata": {
        "id": "VdBqdtBQBQYW"
      },
      "execution_count": 5,
      "outputs": []
    },
    {
      "cell_type": "code",
      "source": [
        "y = x # shallow copy"
      ],
      "metadata": {
        "id": "4Xd8iTmnBVKX"
      },
      "execution_count": 6,
      "outputs": []
    },
    {
      "cell_type": "code",
      "source": [
        "x[2] = 'hgu'"
      ],
      "metadata": {
        "id": "oCjVPwE_BWb3"
      },
      "execution_count": 7,
      "outputs": []
    },
    {
      "cell_type": "code",
      "source": [
        "y"
      ],
      "metadata": {
        "colab": {
          "base_uri": "https://localhost:8080/"
        },
        "id": "u1TvA7NoBYSR",
        "outputId": "570ad4af-070e-4c15-e3e1-a73c7bf28e71"
      },
      "execution_count": 8,
      "outputs": [
        {
          "output_type": "execute_result",
          "data": {
            "text/plain": [
              "['i', 'love', 'hgu']"
            ]
          },
          "metadata": {},
          "execution_count": 8
        }
      ]
    },
    {
      "cell_type": "code",
      "source": [
        "x = [1,2,3]"
      ],
      "metadata": {
        "id": "wXCjO1L7CIgE"
      },
      "execution_count": 19,
      "outputs": []
    },
    {
      "cell_type": "code",
      "source": [
        "y = x.copy() # deep copy"
      ],
      "metadata": {
        "id": "-GOmBQHsBd6A"
      },
      "execution_count": 20,
      "outputs": []
    },
    {
      "cell_type": "code",
      "source": [
        "x[1] = 20"
      ],
      "metadata": {
        "id": "eFMN8wNoB_O5"
      },
      "execution_count": 21,
      "outputs": []
    },
    {
      "cell_type": "code",
      "source": [
        "y"
      ],
      "metadata": {
        "colab": {
          "base_uri": "https://localhost:8080/"
        },
        "id": "bmXYB9JGCA8r",
        "outputId": "848b3715-e90b-48a5-c308-972c809f002b"
      },
      "execution_count": 22,
      "outputs": [
        {
          "output_type": "execute_result",
          "data": {
            "text/plain": [
              "[1, 2, 3]"
            ]
          },
          "metadata": {},
          "execution_count": 22
        }
      ]
    },
    {
      "cell_type": "markdown",
      "source": [
        "## list: append"
      ],
      "metadata": {
        "id": "wPEvKPvnChDF"
      }
    },
    {
      "cell_type": "code",
      "source": [
        "x = [1,2,3,4,5]"
      ],
      "metadata": {
        "id": "8EfKW8mqCWBw"
      },
      "execution_count": 1,
      "outputs": []
    },
    {
      "cell_type": "code",
      "source": [
        "x.append(6)"
      ],
      "metadata": {
        "id": "yZc3uFeaCiaj"
      },
      "execution_count": 2,
      "outputs": []
    },
    {
      "cell_type": "code",
      "source": [
        "x"
      ],
      "metadata": {
        "colab": {
          "base_uri": "https://localhost:8080/"
        },
        "id": "KeQkcXzsCiU5",
        "outputId": "c75c852b-1ec1-4988-82ae-cae67c5678bd"
      },
      "execution_count": 3,
      "outputs": [
        {
          "output_type": "execute_result",
          "data": {
            "text/plain": [
              "[1, 2, 3, 4, 5, 6]"
            ]
          },
          "metadata": {},
          "execution_count": 3
        }
      ]
    },
    {
      "cell_type": "code",
      "source": [
        "x = x + [7]"
      ],
      "metadata": {
        "id": "aZ7hibNvCnSz"
      },
      "execution_count": 4,
      "outputs": []
    },
    {
      "cell_type": "code",
      "source": [
        "x"
      ],
      "metadata": {
        "colab": {
          "base_uri": "https://localhost:8080/"
        },
        "id": "nFToCGQeCqI_",
        "outputId": "303eb767-72cb-4a1d-a6d1-be6f04f41b3e"
      },
      "execution_count": 5,
      "outputs": [
        {
          "output_type": "execute_result",
          "data": {
            "text/plain": [
              "[1, 2, 3, 4, 5, 6, 7]"
            ]
          },
          "metadata": {},
          "execution_count": 5
        }
      ]
    },
    {
      "cell_type": "code",
      "source": [
        "x[6] = 6\n",
        "x"
      ],
      "metadata": {
        "colab": {
          "base_uri": "https://localhost:8080/"
        },
        "id": "zEAxfQQwC0j4",
        "outputId": "61e79b6c-ee79-4b43-c85d-42c5d6387484"
      },
      "execution_count": 6,
      "outputs": [
        {
          "output_type": "execute_result",
          "data": {
            "text/plain": [
              "[1, 2, 3, 4, 5, 6, 6]"
            ]
          },
          "metadata": {},
          "execution_count": 6
        }
      ]
    },
    {
      "cell_type": "code",
      "source": [
        "x[6] = [6] # List가 가지고 있는 인덱스에 해당 타입[6]의 아이템으로 바꾼 것이다.\n",
        "x"
      ],
      "metadata": {
        "colab": {
          "base_uri": "https://localhost:8080/"
        },
        "id": "SNv4Hw7vDAWW",
        "outputId": "bc9c9ca1-b7cc-484e-f46a-58331b3ce22e"
      },
      "execution_count": 7,
      "outputs": [
        {
          "output_type": "execute_result",
          "data": {
            "text/plain": [
              "[1, 2, 3, 4, 5, 6, [6]]"
            ]
          },
          "metadata": {},
          "execution_count": 7
        }
      ]
    },
    {
      "cell_type": "markdown",
      "source": [
        "## tuples & dictionary"
      ],
      "metadata": {
        "id": "vRj9abJ3FMnX"
      }
    },
    {
      "cell_type": "code",
      "source": [],
      "metadata": {
        "id": "QOuyv1HrFOkh"
      },
      "execution_count": null,
      "outputs": []
    },
    {
      "cell_type": "code",
      "source": [
        "y=(2,) # tuple\n",
        "y"
      ],
      "metadata": {
        "colab": {
          "base_uri": "https://localhost:8080/"
        },
        "id": "hDRW72VIEQ_T",
        "outputId": "db391d1c-e8e3-4549-a9d7-9e3a0f3db14e"
      },
      "execution_count": 9,
      "outputs": [
        {
          "output_type": "execute_result",
          "data": {
            "text/plain": [
              "(2,)"
            ]
          },
          "metadata": {},
          "execution_count": 9
        }
      ]
    },
    {
      "cell_type": "code",
      "source": [
        "y=(2) # integer\n",
        "y"
      ],
      "metadata": {
        "colab": {
          "base_uri": "https://localhost:8080/"
        },
        "id": "jpafWABlEZzi",
        "outputId": "b9b4d955-b9c5-43cd-d8b1-a186359f149d"
      },
      "execution_count": 13,
      "outputs": [
        {
          "output_type": "execute_result",
          "data": {
            "text/plain": [
              "2"
            ]
          },
          "metadata": {},
          "execution_count": 13
        }
      ]
    },
    {
      "cell_type": "code",
      "source": [
        "x = {1:'paul', 2:'peter', 3:'john'} # key-value pairs -> x[key] = pair"
      ],
      "metadata": {
        "id": "zLNTqxovFRMU"
      },
      "execution_count": 14,
      "outputs": []
    },
    {
      "cell_type": "code",
      "source": [
        "x[2]"
      ],
      "metadata": {
        "colab": {
          "base_uri": "https://localhost:8080/",
          "height": 35
        },
        "id": "5GR7430zFXGk",
        "outputId": "c3b30d09-0196-450b-b3c9-dcf94574fdd9"
      },
      "execution_count": 15,
      "outputs": [
        {
          "output_type": "execute_result",
          "data": {
            "text/plain": [
              "'peter'"
            ],
            "application/vnd.google.colaboratory.intrinsic+json": {
              "type": "string"
            }
          },
          "metadata": {},
          "execution_count": 15
        }
      ]
    },
    {
      "cell_type": "code",
      "source": [
        "x[3] = 'james'\n",
        "x"
      ],
      "metadata": {
        "colab": {
          "base_uri": "https://localhost:8080/"
        },
        "id": "M4YAxB7SFgIh",
        "outputId": "b6357344-8be6-4410-f523-f23e92cae25e"
      },
      "execution_count": 16,
      "outputs": [
        {
          "output_type": "execute_result",
          "data": {
            "text/plain": [
              "{1: 'paul', 2: 'peter', 3: 'james'}"
            ]
          },
          "metadata": {},
          "execution_count": 16
        }
      ]
    },
    {
      "cell_type": "code",
      "source": [
        "age = input('how old are you?')"
      ],
      "metadata": {
        "colab": {
          "base_uri": "https://localhost:8080/"
        },
        "id": "NheCbCm3GdO7",
        "outputId": "894d425a-295f-42fb-95fa-412bfe95acb2"
      },
      "execution_count": 17,
      "outputs": [
        {
          "name": "stdout",
          "output_type": "stream",
          "text": [
            "how old are you?19\n"
          ]
        }
      ]
    },
    {
      "cell_type": "code",
      "source": [
        "print(age)\n",
        "type(age)"
      ],
      "metadata": {
        "colab": {
          "base_uri": "https://localhost:8080/"
        },
        "id": "C7ToFqK6Gk6R",
        "outputId": "10ff7676-f6be-4deb-d477-864ec5e39318"
      },
      "execution_count": 19,
      "outputs": [
        {
          "output_type": "stream",
          "name": "stdout",
          "text": [
            "19\n"
          ]
        },
        {
          "output_type": "execute_result",
          "data": {
            "text/plain": [
              "str"
            ]
          },
          "metadata": {},
          "execution_count": 19
        }
      ]
    },
    {
      "cell_type": "code",
      "source": [
        "int(age)+6"
      ],
      "metadata": {
        "colab": {
          "base_uri": "https://localhost:8080/"
        },
        "id": "EKY4647QG1f_",
        "outputId": "cdcb943e-e955-4356-f794-9ebe2b46e918"
      },
      "execution_count": 20,
      "outputs": [
        {
          "output_type": "execute_result",
          "data": {
            "text/plain": [
              "25"
            ]
          },
          "metadata": {},
          "execution_count": 20
        }
      ]
    },
    {
      "cell_type": "markdown",
      "source": [
        "## for loop"
      ],
      "metadata": {
        "id": "e-JCa9sdHnmJ"
      }
    },
    {
      "cell_type": "code",
      "source": [
        "for x in [1,3,5,9]:\n",
        "  print(x)"
      ],
      "metadata": {
        "colab": {
          "base_uri": "https://localhost:8080/"
        },
        "id": "Qgbd7k3yHm1h",
        "outputId": "bcb6c108-ab5c-4177-de99-96ad3fcbf907"
      },
      "execution_count": 21,
      "outputs": [
        {
          "output_type": "stream",
          "name": "stdout",
          "text": [
            "1\n",
            "3\n",
            "5\n",
            "9\n"
          ]
        }
      ]
    },
    {
      "cell_type": "code",
      "source": [
        "for x in range(5):\n",
        "  print(x)"
      ],
      "metadata": {
        "colab": {
          "base_uri": "https://localhost:8080/"
        },
        "id": "CFDsnb-VHu7i",
        "outputId": "ebc1ed0e-bde9-4a37-9df6-669526a84660"
      },
      "execution_count": 22,
      "outputs": [
        {
          "output_type": "stream",
          "name": "stdout",
          "text": [
            "0\n",
            "1\n",
            "2\n",
            "3\n",
            "4\n"
          ]
        }
      ]
    },
    {
      "cell_type": "code",
      "source": [
        "for x in range(3,7):\n",
        "  print(x)"
      ],
      "metadata": {
        "colab": {
          "base_uri": "https://localhost:8080/"
        },
        "id": "vMC6WM-gHy0Q",
        "outputId": "cb7d3285-6ad9-4d4e-b54f-7c3c7b7a5d25"
      },
      "execution_count": 23,
      "outputs": [
        {
          "output_type": "stream",
          "name": "stdout",
          "text": [
            "3\n",
            "4\n",
            "5\n",
            "6\n"
          ]
        }
      ]
    },
    {
      "cell_type": "code",
      "source": [
        "vowels = ['a','e','i','o','u']\n",
        "for i, letter in enumerate(vowels): # 각 item의 index를 같이 받아와줌\n",
        "  print (i, letter)\n",
        "type(vowels[1])"
      ],
      "metadata": {
        "colab": {
          "base_uri": "https://localhost:8080/"
        },
        "id": "Z33Eb2I2H-rD",
        "outputId": "149aba6c-d247-486f-935c-172423484724"
      },
      "execution_count": 27,
      "outputs": [
        {
          "output_type": "stream",
          "name": "stdout",
          "text": [
            "0 a\n",
            "1 e\n",
            "2 i\n",
            "3 o\n",
            "4 u\n"
          ]
        },
        {
          "output_type": "execute_result",
          "data": {
            "text/plain": [
              "str"
            ]
          },
          "metadata": {},
          "execution_count": 27
        }
      ]
    },
    {
      "cell_type": "code",
      "source": [
        "x=1\n",
        "while x < 5:\n",
        "  print(x)\n",
        "  x = x+1"
      ],
      "metadata": {
        "colab": {
          "base_uri": "https://localhost:8080/"
        },
        "id": "Uu1ipQQaIjyT",
        "outputId": "dab298d7-b791-407a-ce25-32b289595850"
      },
      "execution_count": 28,
      "outputs": [
        {
          "output_type": "stream",
          "name": "stdout",
          "text": [
            "1\n",
            "2\n",
            "3\n",
            "4\n"
          ]
        }
      ]
    },
    {
      "cell_type": "code",
      "source": [
        "x = 10\n",
        "if x <= 5 :\n",
        "  y = x + 5\n",
        "elif x <= 10 :\n",
        "  y = x + 10\n",
        "else :\n",
        "  y = x\n",
        "print (y)"
      ],
      "metadata": {
        "colab": {
          "base_uri": "https://localhost:8080/"
        },
        "id": "MpKWjbvbIxcP",
        "outputId": "c6ceb176-72d4-42d0-c700-6300ee5e524d"
      },
      "execution_count": 29,
      "outputs": [
        {
          "output_type": "stream",
          "name": "stdout",
          "text": [
            "20\n"
          ]
        }
      ]
    },
    {
      "cell_type": "code",
      "source": [
        "x=['*']\n",
        "type(x[0])\n",
        "print(x[0])"
      ],
      "metadata": {
        "colab": {
          "base_uri": "https://localhost:8080/"
        },
        "id": "MPin4t0rN2i1",
        "outputId": "df5f2435-ae59-42b8-93ac-635f1a86ecaa"
      },
      "execution_count": 35,
      "outputs": [
        {
          "output_type": "stream",
          "name": "stdout",
          "text": [
            "*\n"
          ]
        }
      ]
    },
    {
      "cell_type": "markdown",
      "source": [
        "# exercise 1\n",
        "• Write a program to print out a right triangle of ‘*’, whose\n",
        "width is given as an input.\n",
        "• ex) when input is 5, the output should be as follows."
      ],
      "metadata": {
        "id": "aV2uGtGaKGT8"
      }
    },
    {
      "cell_type": "code",
      "source": [
        "star_nums = input('please input stars number : ')\n",
        "for i in range(int(star_nums)):\n",
        "  stars = ''\n",
        "  for \n"
      ],
      "metadata": {
        "id": "hOVbahIjJQUu"
      },
      "execution_count": null,
      "outputs": []
    },
    {
      "cell_type": "markdown",
      "source": [
        "# exercise 2\n",
        "• implement a program to print out a month"
      ],
      "metadata": {
        "id": "nIJVPHv4KL2d"
      }
    },
    {
      "cell_type": "code",
      "source": [],
      "metadata": {
        "id": "ByfJuAQBL2hR"
      },
      "execution_count": null,
      "outputs": []
    },
    {
      "cell_type": "markdown",
      "source": [
        "# exercise 3\n",
        "• read numbers from ‘input.txt’,\n",
        "and write the sum of each row to ‘output.txt’\n",
        "and print out the sums"
      ],
      "metadata": {
        "id": "N9yD2TM6REZH"
      }
    },
    {
      "cell_type": "code",
      "source": [
        "with open('input.txt', 'r') as input_file, open('output.txt', 'w') as output_file:\n",
        "    for line in input_file:\n",
        "        numbers = line.strip().split()\n",
        "        try:\n",
        "            row_sum = sum(map(float, numbers))\n",
        "            row_sum = round(row_sum, 1)\n",
        "        except ValueError:\n",
        "            row_sum = sum([float(num[0]) if '.' in num else float(num) for num in numbers])\n",
        "        output_file.write(f\"{row_sum}\\n\")\n",
        "        print(row_sum)"
      ],
      "metadata": {
        "colab": {
          "base_uri": "https://localhost:8080/"
        },
        "id": "DZloPOdlRDfw",
        "outputId": "de3cd8a9-3905-4abd-cfa5-838f2e9b5070"
      },
      "execution_count": 45,
      "outputs": [
        {
          "output_type": "stream",
          "name": "stdout",
          "text": [
            "18.3\n",
            "8.0\n",
            "20.0\n",
            "27.5\n"
          ]
        }
      ]
    },
    {
      "cell_type": "code",
      "source": [
        "from google.colab import drive\n",
        "drive.mount('/content/drive')"
      ],
      "metadata": {
        "id": "K30DHZI8UxKE"
      },
      "execution_count": null,
      "outputs": []
    }
  ]
}