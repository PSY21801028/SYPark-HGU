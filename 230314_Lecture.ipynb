{
  "nbformat": 4,
  "nbformat_minor": 0,
  "metadata": {
    "colab": {
      "provenance": [],
      "authorship_tag": "ABX9TyOTZjALue4/T+beeDHDoDPd",
      "include_colab_link": true
    },
    "kernelspec": {
      "name": "python3",
      "display_name": "Python 3"
    },
    "language_info": {
      "name": "python"
    }
  },
  "cells": [
    {
      "cell_type": "markdown",
      "metadata": {
        "id": "view-in-github",
        "colab_type": "text"
      },
      "source": [
        "<a href=\"https://colab.research.google.com/github/PSY21801028/SYPark-HGU/blob/main/230314_Lecture.ipynb\" target=\"_parent\"><img src=\"https://colab.research.google.com/assets/colab-badge.svg\" alt=\"Open In Colab\"/></a>"
      ]
    },
    {
      "cell_type": "markdown",
      "source": [
        "# define "
      ],
      "metadata": {
        "id": "--D1ixlxANL5"
      }
    },
    {
      "cell_type": "code",
      "execution_count": 2,
      "metadata": {
        "colab": {
          "base_uri": "https://localhost:8080/"
        },
        "id": "yx5TF7Gr83mZ",
        "outputId": "5114241e-05fd-4a92-861a-ba9bf21e4155"
      },
      "outputs": [
        {
          "output_type": "stream",
          "name": "stdout",
          "text": [
            "Soonyong 21801028 is taking ECE30007\n",
            "Soonyong 21801028\n"
          ]
        }
      ],
      "source": [
        "def user_define(x,y): # python은 input type(x,y -> string으로 추정)이 명확하지 않을 때가 있다.\n",
        "  print(x,y,\"is taking ECE30007\")\n",
        "  return x+ \" \"+y # python 에서는 \"\", '' 의 차이가 없다. 다만, 혼용해서 쓰면 오류가 생길 수 있다.\n",
        "\n",
        "string = user_define(\"Soonyong\", \"21801028\")\n",
        "print(string)"
      ]
    },
    {
      "cell_type": "code",
      "source": [
        "def foo():\n",
        "  y = \"local\"\n",
        "  print(\"local : \", y)\n",
        "\n",
        "foo()\n",
        "# print(y) -> local variable(=y) error\n",
        "\n",
        "x = \"global\"\n",
        "def foo_global():\n",
        "  print(\"x inside : \", x)\n",
        "\n",
        "foo_global()\n",
        "print(\"x outside : \", x)"
      ],
      "metadata": {
        "colab": {
          "base_uri": "https://localhost:8080/"
        },
        "id": "g0WL-49J9-EF",
        "outputId": "63b4eb11-f99e-4d47-b5cb-327b07df8d24"
      },
      "execution_count": 4,
      "outputs": [
        {
          "output_type": "stream",
          "name": "stdout",
          "text": [
            "local :  local\n",
            "x inside :  global\n",
            "x outside :  global\n"
          ]
        }
      ]
    },
    {
      "cell_type": "markdown",
      "source": [
        "#Recursion & lambda"
      ],
      "metadata": {
        "id": "Rlo_pkHqAITZ"
      }
    },
    {
      "cell_type": "code",
      "source": [
        "def recur_fac(x):\n",
        "  if x<1:\n",
        "    return 1\n",
        "  return x*recur_fac(x-1)"
      ],
      "metadata": {
        "id": "bvoIgApV_gi9"
      },
      "execution_count": 5,
      "outputs": []
    },
    {
      "cell_type": "code",
      "source": [
        "x = lambda a, b:print(a*b)\n",
        "x(5,6)"
      ],
      "metadata": {
        "colab": {
          "base_uri": "https://localhost:8080/"
        },
        "id": "Mf1o4XcaAAjB",
        "outputId": "61cbd281-d7a8-49dd-8e3a-029f59431709"
      },
      "execution_count": 6,
      "outputs": [
        {
          "output_type": "stream",
          "name": "stdout",
          "text": [
            "30\n"
          ]
        }
      ]
    },
    {
      "cell_type": "markdown",
      "source": [
        "#Exercise(1)"
      ],
      "metadata": {
        "id": "2ohqCZ18ARwE"
      }
    },
    {
      "cell_type": "code",
      "source": [
        "def sum(n):\n",
        "  if n == 0:\n",
        "    return 0\n",
        "  return n + sum(n-1)\n",
        "  \n",
        "sum(10)"
      ],
      "metadata": {
        "colab": {
          "base_uri": "https://localhost:8080/"
        },
        "id": "MHfWnVBcAS1r",
        "outputId": "deb9ec25-4ae4-4c95-af10-2caa1bc91576"
      },
      "execution_count": 7,
      "outputs": [
        {
          "output_type": "execute_result",
          "data": {
            "text/plain": [
              "55"
            ]
          },
          "metadata": {},
          "execution_count": 7
        }
      ]
    },
    {
      "cell_type": "code",
      "source": [
        "def is_odd(num):\n",
        "\n",
        "  if (num%2==0):\n",
        "    odd = \"Even\"\n",
        "    return odd\n",
        "  else:\n",
        "    odd = \"Odd\"\n",
        "    return odd\n",
        "  \n",
        "is_odd(3)"
      ],
      "metadata": {
        "colab": {
          "base_uri": "https://localhost:8080/",
          "height": 35
        },
        "id": "R7IVLJLfAGnl",
        "outputId": "0f25c879-1e7e-4515-e1eb-ce73144053e6"
      },
      "execution_count": 11,
      "outputs": [
        {
          "output_type": "execute_result",
          "data": {
            "text/plain": [
              "'Odd'"
            ],
            "application/vnd.google.colaboratory.intrinsic+json": {
              "type": "string"
            }
          },
          "metadata": {},
          "execution_count": 11
        }
      ]
    },
    {
      "cell_type": "markdown",
      "source": [
        "#Python Object-Oriented Programming"
      ],
      "metadata": {
        "id": "--Qg6ijXCMHQ"
      }
    },
    {
      "cell_type": "code",
      "source": [
        "class Bird: # class 틀\n",
        "  def __init__(self,name,age,color): # e.g. 붕어빵을 틀에 넣고 가열하기 시작할 때 사용 (self)\n",
        "    self.name = name\n",
        "    self.age = age\n",
        "    self.color = color\n",
        "  def sing(self):\n",
        "    print(\"Tweets! \")\n",
        "  def flying(self):\n",
        "    print(self.name + \" is flying...\")\n",
        "\n",
        "b0 = Bird('John', 3, 'yellow')\n",
        "b0.sing()\n",
        "b0.flying()"
      ],
      "metadata": {
        "colab": {
          "base_uri": "https://localhost:8080/"
        },
        "id": "Smho-VE6BxbF",
        "outputId": "48bc946b-16bc-4b8a-dc39-7eb6cf0f259a"
      },
      "execution_count": 12,
      "outputs": [
        {
          "output_type": "stream",
          "name": "stdout",
          "text": [
            "Tweets! \n",
            "John is flying...\n"
          ]
        }
      ]
    },
    {
      "cell_type": "code",
      "source": [
        "class Parrot(Bird): # inheritance & override\n",
        "  def __init__(self, name, age, character):\n",
        "    Bird.__init__(self,name,age,'blue') # override not Bird class but Bird.__init__ .\n",
        "    self.character = character\n",
        "\n",
        "class Craw(Bird):\n",
        "    def __init__(self, name, age):\n",
        "      Bird.__init__(self, name, age, 'black')\n",
        "    def sing(self): #overriding -> 상속 받은 똑같은 이름의 녀석은 무시하게 됨\n",
        "      print('krrrrrrrr')\n",
        "\n",
        "c0 = Craw('John', 3)\n",
        "c0.sing()\n",
        "c0.flying()\n",
        "p1 = Parrot(\"Soonyong\", 3, \"mimic\")\n",
        "p1.sing()\n",
        "p1.flying()"
      ],
      "metadata": {
        "colab": {
          "base_uri": "https://localhost:8080/"
        },
        "id": "gUFFGeUeDIMU",
        "outputId": "946847f7-aaae-4ae1-e147-cb425cf2f986"
      },
      "execution_count": 14,
      "outputs": [
        {
          "output_type": "stream",
          "name": "stdout",
          "text": [
            "krrrrrrrr\n",
            "John is flying...\n",
            "Tweets! \n",
            "Soonyong is flying...\n"
          ]
        }
      ]
    },
    {
      "cell_type": "markdown",
      "source": [
        "# Application NumPy Library"
      ],
      "metadata": {
        "id": "BikGqKmwI_7Z"
      }
    },
    {
      "cell_type": "code",
      "source": [
        "import numpy as np"
      ],
      "metadata": {
        "id": "xWzL5UdTHfyq"
      },
      "execution_count": 15,
      "outputs": []
    },
    {
      "cell_type": "markdown",
      "source": [],
      "metadata": {
        "id": "zpKhdSo2JEAf"
      }
    },
    {
      "cell_type": "code",
      "source": [
        "A = np.array([0, 1, 2, 3, 4, 5, 6, 7, 8, 9, 10, 11, 12, 13, 14, 15], dtype=int)\n",
        "A"
      ],
      "metadata": {
        "colab": {
          "base_uri": "https://localhost:8080/"
        },
        "id": "d5X9R5PtH-qB",
        "outputId": "8b6e2d7c-a467-4293-cb51-8cd8312ae454"
      },
      "execution_count": 21,
      "outputs": [
        {
          "output_type": "execute_result",
          "data": {
            "text/plain": [
              "array([ 0,  1,  2,  3,  4,  5,  6,  7,  8,  9, 10, 11, 12, 13, 14, 15])"
            ]
          },
          "metadata": {},
          "execution_count": 21
        }
      ]
    },
    {
      "cell_type": "code",
      "source": [
        "np.zeros((3,5), dtype=int)"
      ],
      "metadata": {
        "colab": {
          "base_uri": "https://localhost:8080/"
        },
        "id": "OI9UaFL_IUIM",
        "outputId": "4925b521-c77c-4392-b04a-2fdd0e114a2e"
      },
      "execution_count": 22,
      "outputs": [
        {
          "output_type": "execute_result",
          "data": {
            "text/plain": [
              "array([[0, 0, 0, 0, 0],\n",
              "       [0, 0, 0, 0, 0],\n",
              "       [0, 0, 0, 0, 0]])"
            ]
          },
          "metadata": {},
          "execution_count": 22
        }
      ]
    },
    {
      "cell_type": "code",
      "source": [
        "np.ones((2,10), dtype=int)"
      ],
      "metadata": {
        "colab": {
          "base_uri": "https://localhost:8080/"
        },
        "id": "Fn50pqquIyVX",
        "outputId": "f4b332ee-29df-453b-cf2d-3b4d3e12fab8"
      },
      "execution_count": 23,
      "outputs": [
        {
          "output_type": "execute_result",
          "data": {
            "text/plain": [
              "array([[1, 1, 1, 1, 1, 1, 1, 1, 1, 1],\n",
              "       [1, 1, 1, 1, 1, 1, 1, 1, 1, 1]])"
            ]
          },
          "metadata": {},
          "execution_count": 23
        }
      ]
    },
    {
      "cell_type": "markdown",
      "source": [
        "**random.rand(d0, d1, ..., dn)** : \n",
        "Random values in a given shape."
      ],
      "metadata": {
        "id": "J82ZH8rhJM23"
      }
    },
    {
      "cell_type": "code",
      "source": [
        "np.random.rand(3,4)"
      ],
      "metadata": {
        "colab": {
          "base_uri": "https://localhost:8080/"
        },
        "id": "VocFzijkI1Ls",
        "outputId": "1c2f1519-996c-44cb-f440-8d8c045e9105"
      },
      "execution_count": 24,
      "outputs": [
        {
          "output_type": "execute_result",
          "data": {
            "text/plain": [
              "array([[0.34048763, 0.47700348, 0.05109676, 0.5231541 ],\n",
              "       [0.94294343, 0.64340201, 0.44487405, 0.78714905],\n",
              "       [0.476005  , 0.45377527, 0.97742555, 0.12013292]])"
            ]
          },
          "metadata": {},
          "execution_count": 24
        }
      ]
    },
    {
      "cell_type": "markdown",
      "source": [
        "**random.randn(d0, d1, ..., dn)** : \n",
        "Return a sample (or samples) from the “standard normal(mean 0, std 1)” distribution."
      ],
      "metadata": {
        "id": "jS-tVtvAJPYt"
      }
    },
    {
      "cell_type": "code",
      "source": [
        "np.random.randn(3,5)"
      ],
      "metadata": {
        "colab": {
          "base_uri": "https://localhost:8080/"
        },
        "id": "Sk2Uk7HxI6Bg",
        "outputId": "7500bc58-da27-498d-8dea-a63ac1880c44"
      },
      "execution_count": 25,
      "outputs": [
        {
          "output_type": "execute_result",
          "data": {
            "text/plain": [
              "array([[ 0.86246416, -2.15172238,  0.68897201, -0.91387474,  1.73333274],\n",
              "       [-1.26077083, -0.11254935, -1.52539848,  1.38925887, -0.25473174],\n",
              "       [-1.07298107, -0.34431682, -0.59992749,  1.35806349,  1.85123922]])"
            ]
          },
          "metadata": {},
          "execution_count": 25
        }
      ]
    },
    {
      "cell_type": "code",
      "source": [
        "ndarray=np.ones((2,4))"
      ],
      "metadata": {
        "id": "ieLbDB_KMbXO"
      },
      "execution_count": 27,
      "outputs": []
    },
    {
      "cell_type": "code",
      "source": [
        "ndarray.shape"
      ],
      "metadata": {
        "colab": {
          "base_uri": "https://localhost:8080/"
        },
        "id": "53eKd-AXMgZv",
        "outputId": "bcc0dae7-ea16-418f-ae0a-415d43bb1e65"
      },
      "execution_count": 28,
      "outputs": [
        {
          "output_type": "execute_result",
          "data": {
            "text/plain": [
              "(2, 4)"
            ]
          },
          "metadata": {},
          "execution_count": 28
        }
      ]
    },
    {
      "cell_type": "code",
      "source": [
        "ndarray.ndim"
      ],
      "metadata": {
        "colab": {
          "base_uri": "https://localhost:8080/"
        },
        "id": "nd5yQ_sAMjd3",
        "outputId": "4ab4c5b6-00d2-4995-d16c-7ec102b5f5e0"
      },
      "execution_count": 29,
      "outputs": [
        {
          "output_type": "execute_result",
          "data": {
            "text/plain": [
              "2"
            ]
          },
          "metadata": {},
          "execution_count": 29
        }
      ]
    },
    {
      "cell_type": "code",
      "source": [
        "ndarray.reshape(4,2)"
      ],
      "metadata": {
        "colab": {
          "base_uri": "https://localhost:8080/"
        },
        "id": "TlwvxzrYMmQW",
        "outputId": "64f72e7a-2db2-4f3e-9c80-c4b063fa4fe2"
      },
      "execution_count": 30,
      "outputs": [
        {
          "output_type": "execute_result",
          "data": {
            "text/plain": [
              "array([[1., 1.],\n",
              "       [1., 1.],\n",
              "       [1., 1.],\n",
              "       [1., 1.]])"
            ]
          },
          "metadata": {},
          "execution_count": 30
        }
      ]
    },
    {
      "cell_type": "code",
      "source": [
        "ndarray.reshape(1,-1)"
      ],
      "metadata": {
        "colab": {
          "base_uri": "https://localhost:8080/"
        },
        "id": "dEImXNeLMpaG",
        "outputId": "99364483-8065-4753-f003-464ac987e3a0"
      },
      "execution_count": 31,
      "outputs": [
        {
          "output_type": "execute_result",
          "data": {
            "text/plain": [
              "array([[1., 1., 1., 1., 1., 1., 1., 1.]])"
            ]
          },
          "metadata": {},
          "execution_count": 31
        }
      ]
    },
    {
      "cell_type": "code",
      "source": [
        "ndarray.dtype"
      ],
      "metadata": {
        "colab": {
          "base_uri": "https://localhost:8080/"
        },
        "id": "2920A1wrI85r",
        "outputId": "9db71462-2043-4379-dc7c-a3e308ae43ac"
      },
      "execution_count": 32,
      "outputs": [
        {
          "output_type": "execute_result",
          "data": {
            "text/plain": [
              "dtype('float64')"
            ]
          },
          "metadata": {},
          "execution_count": 32
        }
      ]
    },
    {
      "cell_type": "code",
      "source": [
        "ndarray1=np.arange(2,22).reshape(4,5)"
      ],
      "metadata": {
        "id": "KRTMngxWMuhx"
      },
      "execution_count": 33,
      "outputs": []
    },
    {
      "cell_type": "code",
      "source": [
        "ndarray2=np.arange(0,5).reshape(5,1)"
      ],
      "metadata": {
        "id": "HmOFRi0qM49b"
      },
      "execution_count": 37,
      "outputs": []
    },
    {
      "cell_type": "code",
      "source": [
        "ndarray1\n",
        "ndarray2"
      ],
      "metadata": {
        "colab": {
          "base_uri": "https://localhost:8080/"
        },
        "id": "IC-L24Z2M8vh",
        "outputId": "fffd520c-f290-420b-f9dd-4b1c21104531"
      },
      "execution_count": 35,
      "outputs": [
        {
          "output_type": "execute_result",
          "data": {
            "text/plain": [
              "array([[0, 1, 2, 3, 4]])"
            ]
          },
          "metadata": {},
          "execution_count": 35
        }
      ]
    },
    {
      "cell_type": "code",
      "source": [
        "ndarray3=np.dot(ndarray1,ndarray2)"
      ],
      "metadata": {
        "id": "kL1yGhdHNAco"
      },
      "execution_count": 38,
      "outputs": []
    },
    {
      "cell_type": "code",
      "source": [
        "ndarray3.T"
      ],
      "metadata": {
        "colab": {
          "base_uri": "https://localhost:8080/"
        },
        "id": "lFfM_AflNIde",
        "outputId": "7cbcd6c7-65ed-4185-8654-ff2d7de3e704"
      },
      "execution_count": 39,
      "outputs": [
        {
          "output_type": "execute_result",
          "data": {
            "text/plain": [
              "array([[ 50, 100, 150, 200]])"
            ]
          },
          "metadata": {},
          "execution_count": 39
        }
      ]
    },
    {
      "cell_type": "code",
      "source": [
        "import numpy as np\n",
        "import openpyxl # if you don’t’ have this, then pip install openpyxl first\n",
        "file= openpyxl.load_workbook('data_set_train.xlsx') # assuming that the file is in the current directory\n",
        "ws = file.active\n",
        "\n",
        "data=[] # list type\n",
        "col_name=[] # list type\n",
        "for row in ws.iter_rows(max_row=1): # read the first row\n",
        "  for cell in row:\n",
        "    col_name.append(cell.value)\n",
        "for row in ws.iter_rows(min_row=2): # read from the 2nd row\n",
        "  one_line=[]\n",
        "  for cell in row:\n",
        "    one_line.append(cell.value)\n",
        "  data.append(one_line)\n"
      ],
      "metadata": {
        "id": "2OBOPKQCNVCg"
      },
      "execution_count": 51,
      "outputs": []
    },
    {
      "cell_type": "code",
      "source": [
        "print(type(data))\n",
        "arr=np.array(data)\n",
        "print(type(arr))"
      ],
      "metadata": {
        "colab": {
          "base_uri": "https://localhost:8080/"
        },
        "id": "rYBSHfGPPlbZ",
        "outputId": "cd04b53c-1aec-4464-df17-a74facda3651"
      },
      "execution_count": 52,
      "outputs": [
        {
          "output_type": "stream",
          "name": "stdout",
          "text": [
            "<class 'list'>\n",
            "<class 'numpy.ndarray'>\n"
          ]
        }
      ]
    },
    {
      "cell_type": "code",
      "source": [
        "arr.shape"
      ],
      "metadata": {
        "colab": {
          "base_uri": "https://localhost:8080/"
        },
        "id": "35LXu51BPvtq",
        "outputId": "fc0984b0-0858-45a9-c1a6-219c6e64bd0f"
      },
      "execution_count": 53,
      "outputs": [
        {
          "output_type": "execute_result",
          "data": {
            "text/plain": [
              "(17400, 29)"
            ]
          },
          "metadata": {},
          "execution_count": 53
        }
      ]
    },
    {
      "cell_type": "code",
      "source": [
        "data_set = arr[:,:9]\n",
        "data_set"
      ],
      "metadata": {
        "colab": {
          "base_uri": "https://localhost:8080/"
        },
        "id": "u_wfskM2QdSM",
        "outputId": "627bb490-7345-48b9-b58d-de070b1dbf70"
      },
      "execution_count": 55,
      "outputs": [
        {
          "output_type": "execute_result",
          "data": {
            "text/plain": [
              "array([['강남역우정에쉐르', '2006Q1', '9000.0', ..., '7.0', '37.4942041',\n",
              "        '127.0435446'],\n",
              "       ['강남역우정에쉐르', '2006Q1', '9000.0', ..., '7.0', '37.4942041',\n",
              "        '127.0435446'],\n",
              "       ['개포주공1단지', '2006Q1', '73000.0', ..., '3.0', '37.4784072',\n",
              "        '127.061375'],\n",
              "       ...,\n",
              "       ['현대하이츠', '2017Q3', '64000.0', ..., '1.0', '37.4913789',\n",
              "        '127.0348797'],\n",
              "       ['현대한강', '2017Q3', '170000.0', ..., '8.0', '37.5246752',\n",
              "        '127.056226'],\n",
              "       ['현대한강', '2017Q3', '170000.0', ..., '8.0', '37.5246752',\n",
              "        '127.056226']], dtype='<U32')"
            ]
          },
          "metadata": {},
          "execution_count": 55
        }
      ]
    },
    {
      "cell_type": "code",
      "source": [
        "data_set.shape"
      ],
      "metadata": {
        "colab": {
          "base_uri": "https://localhost:8080/"
        },
        "id": "5AmeyogoQlND",
        "outputId": "82af0710-4967-4ea4-a2a6-e13bdd7674e9"
      },
      "execution_count": 56,
      "outputs": [
        {
          "output_type": "execute_result",
          "data": {
            "text/plain": [
              "(17400, 9)"
            ]
          },
          "metadata": {},
          "execution_count": 56
        }
      ]
    },
    {
      "cell_type": "markdown",
      "source": [
        "#Exercise(2) - Slice only 2006"
      ],
      "metadata": {
        "id": "oa0m_qUlQyVV"
      }
    },
    {
      "cell_type": "code",
      "source": [
        "data_set2006=data_set[data_set[:,1] < '2007Q1',:]\n",
        "data_set2006"
      ],
      "metadata": {
        "colab": {
          "base_uri": "https://localhost:8080/"
        },
        "id": "WaLSkRvzQniW",
        "outputId": "5ec5dbf2-26fb-4288-9799-02d82deafefd"
      },
      "execution_count": 58,
      "outputs": [
        {
          "output_type": "execute_result",
          "data": {
            "text/plain": [
              "array([['강남역우정에쉐르', '2006Q1', '9000.0', ..., '7.0', '37.4942041',\n",
              "        '127.0435446'],\n",
              "       ['강남역우정에쉐르', '2006Q1', '9000.0', ..., '7.0', '37.4942041',\n",
              "        '127.0435446'],\n",
              "       ['개포주공1단지', '2006Q1', '73000.0', ..., '3.0', '37.4784072',\n",
              "        '127.061375'],\n",
              "       ...,\n",
              "       ['현대빌라트', '2006Q4', '125000.0', ..., '3.0', '37.5179279',\n",
              "        '127.0428004'],\n",
              "       ['현대빌라트', '2006Q4', '125000.0', ..., '3.0', '37.5179279',\n",
              "        '127.0428004'],\n",
              "       ['현대빌라트', '2006Q4', '125000.0', ..., '3.0', '37.5179279',\n",
              "        '127.0428004']], dtype='<U32')"
            ]
          },
          "metadata": {},
          "execution_count": 58
        }
      ]
    },
    {
      "cell_type": "code",
      "source": [
        "data_set2006.shape"
      ],
      "metadata": {
        "colab": {
          "base_uri": "https://localhost:8080/"
        },
        "id": "n9bs_7MvRPEx",
        "outputId": "f1953cc5-e890-4ae2-c711-fb918f70f694"
      },
      "execution_count": 59,
      "outputs": [
        {
          "output_type": "execute_result",
          "data": {
            "text/plain": [
              "(2617, 9)"
            ]
          },
          "metadata": {},
          "execution_count": 59
        }
      ]
    },
    {
      "cell_type": "markdown",
      "source": [
        "#Exercise 3 - Convert type of ndarrays (Correlation)"
      ],
      "metadata": {
        "id": "RDt97-77R-wt"
      }
    },
    {
      "cell_type": "code",
      "source": [
        "\n",
        "\n",
        "np.corrcoef(price, station)"
      ],
      "metadata": {
        "id": "h_H-BiUvRSWw"
      },
      "execution_count": null,
      "outputs": []
    },
    {
      "cell_type": "markdown",
      "source": [
        "# Matplotlib"
      ],
      "metadata": {
        "id": "U5HyFBhdSgds"
      }
    },
    {
      "cell_type": "code",
      "source": [
        "import matplotlib.pyplot as plt"
      ],
      "metadata": {
        "id": "zCl3jfyHSEkq"
      },
      "execution_count": 60,
      "outputs": []
    },
    {
      "cell_type": "code",
      "source": [
        "plt.figure(figsize=(10,5))"
      ],
      "metadata": {
        "colab": {
          "base_uri": "https://localhost:8080/",
          "height": 54
        },
        "id": "isEt1jjfSnTW",
        "outputId": "42366142-98f1-4cc8-9e8a-008027b7a7e5"
      },
      "execution_count": 62,
      "outputs": [
        {
          "output_type": "execute_result",
          "data": {
            "text/plain": [
              "<Figure size 720x360 with 0 Axes>"
            ]
          },
          "metadata": {},
          "execution_count": 62
        },
        {
          "output_type": "display_data",
          "data": {
            "text/plain": [
              "<Figure size 720x360 with 0 Axes>"
            ]
          },
          "metadata": {}
        }
      ]
    },
    {
      "cell_type": "code",
      "source": [
        "plt.subplot(1,2,1)\n",
        "plt.xlim([-1., 1.])\n",
        "plt.ylim([-0.5, 2.5])\n",
        "\n",
        "plt.subplot(1,2,2)\n",
        "plt.ylabel('Y')\n",
        "plt.xlabel('X')\n",
        "plt.title(\"Hanse\")\n",
        "plt.show()"
      ],
      "metadata": {
        "colab": {
          "base_uri": "https://localhost:8080/",
          "height": 295
        },
        "id": "0e-dXSCVS3NU",
        "outputId": "219fcfc5-eb94-4e39-f828-93d3ca517aac"
      },
      "execution_count": 63,
      "outputs": [
        {
          "output_type": "display_data",
          "data": {
            "text/plain": [
              "<Figure size 432x288 with 2 Axes>"
            ],
            "image/png": "[encoded data removed]"
          },
          "metadata": {
            "needs_background": "light"
          }
        }
      ]
    },
    {
      "cell_type": "code",
      "source": [
        "np.random.seed(500)\n",
        "N = 50\n",
        "x = np.random.rand(N)\n",
        "y = np.random.rand(N)\n",
        "\n",
        "plt.scatter(x, y,c = 'black', alpha = 0.5)\n",
        "plt.show()"
      ],
      "metadata": {
        "colab": {
          "base_uri": "https://localhost:8080/",
          "height": 265
        },
        "id": "g81xDuMwTPMA",
        "outputId": "e05ac882-374c-4687-a47f-157a8996ccae"
      },
      "execution_count": 64,
      "outputs": [
        {
          "output_type": "display_data",
          "data": {
            "text/plain": [
              "<Figure size 432x288 with 1 Axes>"
            ],
            "image/png": "[encoded data removed]"
          },
          "metadata": {
            "needs_background": "light"
          }
        }
      ]
    },
    {
      "cell_type": "code",
      "source": [
        "year2018 = [1,5,8,9,7,11,8,12,14,9,5]\n",
        "year2019 = [3,7,9,6,4,5,14,7,6,16,12]\n",
        "#plotting line plots\n",
        "plt.plot(range(1,12), year2018,color='black')\n",
        "plt.plot(range(1,12), year2019,color='r', alpha = 0.6)\n",
        "plt.plot(range(1,12), year2019, 'C0o', alpha=0.5, color='black')\n",
        "plt.plot(range(1,12), year2018, 'C0o', alpha=0.5, color='orange')\n",
        "\n",
        "plt.title('2018 and 2019')\n",
        "plt.ylabel('Value')\n",
        "plt.xlabel('Month')\n",
        "plt.legend(['year 2018', 'year 2019'], loc=4)\n",
        "plt.show()"
      ],
      "metadata": {
        "colab": {
          "base_uri": "https://localhost:8080/",
          "height": 388
        },
        "id": "jeQN6baXTeun",
        "outputId": "d8b54301-09d6-4eda-cd73-64296e4583ac"
      },
      "execution_count": 65,
      "outputs": [
        {
          "output_type": "stream",
          "name": "stderr",
          "text": [
            "<ipython-input-65-5c8997c97f70>:6: UserWarning: color is redundantly defined by the 'color' keyword argument and the fmt string \"C0o\" (-> color=(0.12156862745098039, 0.4666666666666667, 0.7058823529411765, 1.0)). The keyword argument will take precedence.\n",
            "  plt.plot(range(1,12), year2019, 'C0o', alpha=0.5, color='black')\n",
            "<ipython-input-65-5c8997c97f70>:7: UserWarning: color is redundantly defined by the 'color' keyword argument and the fmt string \"C0o\" (-> color=(0.12156862745098039, 0.4666666666666667, 0.7058823529411765, 1.0)). The keyword argument will take precedence.\n",
            "  plt.plot(range(1,12), year2018, 'C0o', alpha=0.5, color='orange')\n"
          ]
        },
        {
          "output_type": "display_data",
          "data": {
            "text/plain": [
              "<Figure size 432x288 with 1 Axes>"
            ],
            "image/png": "[encoded data removed]"
          },
          "metadata": {
            "needs_background": "light"
          }
        }
      ]
    },
    {
      "cell_type": "markdown",
      "source": [
        "#Exercise(4~6) : Yearly Average Price, Quaterly Average Price, Quaterly Price Graph & Histogram"
      ],
      "metadata": {
        "id": "yjykorYpUXJX"
      }
    },
    {
      "cell_type": "code",
      "source": [],
      "metadata": {
        "id": "lUsL3gFrUVBP"
      },
      "execution_count": null,
      "outputs": []
    }
  ]
}