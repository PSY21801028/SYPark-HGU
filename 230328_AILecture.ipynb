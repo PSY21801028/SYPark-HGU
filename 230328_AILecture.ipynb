{
  "nbformat": 4,
  "nbformat_minor": 0,
  "metadata": {
    "colab": {
      "provenance": [],
      "authorship_tag": "ABX9TyNAJzD8vnk2l6a9E96SwWpg",
      "include_colab_link": true
    },
    "kernelspec": {
      "name": "python3",
      "display_name": "Python 3"
    },
    "language_info": {
      "name": "python"
    },
    "accelerator": "GPU",
    "gpuClass": "standard"
  },
  "cells": [
    {
      "cell_type": "markdown",
      "metadata": {
        "id": "view-in-github",
        "colab_type": "text"
      },
      "source": [
        "<a href=\"https://colab.research.google.com/github/PSY21801028/SYPark-HGU/blob/main/230328_AILecture.ipynb\" target=\"_parent\"><img src=\"https://colab.research.google.com/assets/colab-badge.svg\" alt=\"Open In Colab\"/></a>"
      ]
    },
    {
      "cell_type": "code",
      "execution_count": 33,
      "metadata": {
        "colab": {
          "base_uri": "https://localhost:8080/",
          "height": 265
        },
        "id": "Y2_R0VElFlPE",
        "outputId": "ee480306-c4d9-48d1-aec1-484fb9f7d537"
      },
      "outputs": [
        {
          "output_type": "display_data",
          "data": {
            "text/plain": [
              "<Figure size 432x288 with 1 Axes>"
            ],
            "image/png": "[encoded data removed]"
          },
          "metadata": {
            "needs_background": "light"
          }
        }
      ],
      "source": [
        "from PIL import Image\n",
        "from numpy import asarray\n",
        "from keras.models import Sequential\n",
        "from keras.layers import Dense, Dropout, Flatten\n",
        "from keras.layers.convolutional import Conv2D, MaxPooling2D\n",
        "import sys\n",
        "import keras\n",
        "import tensorflow as tf\n",
        "import pickle\n",
        "import pandas as pd\n",
        "import matplotlib.pyplot as plt\n",
        "from tensorflow import keras\n",
        "import numpy as np\n",
        "(x_train, y_train), (x_test, y_test) = keras.datasets.mnist.load_data()\n",
        "#x_train.shape\n",
        "# type(x_train[0,0,0])\n",
        "x_train = x_train.astype('float32') / 255.\n",
        "n = 1\n",
        "plt.imshow(x_train[n], cmap='Greys', interpolation='nearest')\n",
        "plt.show()"
      ]
    },
    {
      "cell_type": "code",
      "source": [
        "x_train = x_train.reshape(x_train.shape[0], 28, 28, 1)\n",
        "#x_train.shape\n",
        "x_test = x_test.reshape(x_test.shape[0], 28, 28, 1)\n",
        "input_shape = (28, 28, 1)\n",
        "#input_shape"
      ],
      "metadata": {
        "id": "znMVWLHcZF4M"
      },
      "execution_count": 34,
      "outputs": []
    },
    {
      "cell_type": "code",
      "source": [
        "y_train[0:10]\n",
        "num_classes = 10\n",
        "y_train = keras.utils.to_categorical(y_train, num_classes)\n",
        "y_test = keras.utils.to_categorical(y_test, num_classes)\n",
        "y_train[0:10]"
      ],
      "metadata": {
        "colab": {
          "base_uri": "https://localhost:8080/"
        },
        "id": "DJ50pHtKZlxa",
        "outputId": "587a956e-dcde-47e9-cef6-bef30d4da89c"
      },
      "execution_count": 35,
      "outputs": [
        {
          "output_type": "execute_result",
          "data": {
            "text/plain": [
              "array([[0., 0., 0., 0., 0., 1., 0., 0., 0., 0.],\n",
              "       [1., 0., 0., 0., 0., 0., 0., 0., 0., 0.],\n",
              "       [0., 0., 0., 0., 1., 0., 0., 0., 0., 0.],\n",
              "       [0., 1., 0., 0., 0., 0., 0., 0., 0., 0.],\n",
              "       [0., 0., 0., 0., 0., 0., 0., 0., 0., 1.],\n",
              "       [0., 0., 1., 0., 0., 0., 0., 0., 0., 0.],\n",
              "       [0., 1., 0., 0., 0., 0., 0., 0., 0., 0.],\n",
              "       [0., 0., 0., 1., 0., 0., 0., 0., 0., 0.],\n",
              "       [0., 1., 0., 0., 0., 0., 0., 0., 0., 0.],\n",
              "       [0., 0., 0., 0., 1., 0., 0., 0., 0., 0.]], dtype=float32)"
            ]
          },
          "metadata": {},
          "execution_count": 35
        }
      ]
    },
    {
      "cell_type": "code",
      "source": [
        "import sys\n",
        "import tensorflow as tf\n",
        "import keras\n",
        "from keras.models import Sequential\n",
        "from keras.layers import Dense, Dropout, Flatten\n",
        "from keras.layers.convolutional import Conv2D, MaxPooling2D\n",
        "import numpy as np\n",
        "np.random.seed(7)"
      ],
      "metadata": {
        "id": "-3nrhj-XZoc0"
      },
      "execution_count": 36,
      "outputs": []
    },
    {
      "cell_type": "code",
      "source": [
        "model = Sequential()\n",
        "model.add(Conv2D(32, kernel_size=(5, 5), strides=(1, 1), padding='same',\n",
        "activation='relu',\n",
        "input_shape=input_shape))\n",
        "model.add(MaxPooling2D(pool_size=(2, 2), strides=(2, 2)))\n",
        "model.add(Conv2D(64, (2, 2), activation='relu', padding='same'))\n",
        "model.add(MaxPooling2D(pool_size=(2, 2)))\n",
        "model.add(Dropout(0.25))\n",
        "model.add(Flatten())\n",
        "model.add(Dense(1000, activation='relu'))\n",
        "model.add(Dropout(0.5))\n",
        "model.add(Dense(num_classes, activation='softmax'))"
      ],
      "metadata": {
        "id": "HN7Og77VZ2AU"
      },
      "execution_count": 31,
      "outputs": []
    },
    {
      "cell_type": "code",
      "source": [
        "model.summary()"
      ],
      "metadata": {
        "colab": {
          "base_uri": "https://localhost:8080/"
        },
        "id": "nvK79b3QZ4Hr",
        "outputId": "73c9c353-36ef-43c1-bf78-30c40afe351e"
      },
      "execution_count": 37,
      "outputs": [
        {
          "output_type": "stream",
          "name": "stdout",
          "text": [
            "Model: \"sequential_3\"\n",
            "_________________________________________________________________\n",
            " Layer (type)                Output Shape              Param #   \n",
            "=================================================================\n",
            " conv2d_8 (Conv2D)           (None, 28, 28, 32)        832       \n",
            "                                                                 \n",
            " max_pooling2d_6 (MaxPooling  (None, 14, 14, 32)       0         \n",
            " 2D)                                                             \n",
            "                                                                 \n",
            " conv2d_9 (Conv2D)           (None, 14, 14, 64)        8256      \n",
            "                                                                 \n",
            " max_pooling2d_7 (MaxPooling  (None, 7, 7, 64)         0         \n",
            " 2D)                                                             \n",
            "                                                                 \n",
            " dropout_6 (Dropout)         (None, 7, 7, 64)          0         \n",
            "                                                                 \n",
            " flatten_3 (Flatten)         (None, 3136)              0         \n",
            "                                                                 \n",
            " dense_6 (Dense)             (None, 1000)              3137000   \n",
            "                                                                 \n",
            " dropout_7 (Dropout)         (None, 1000)              0         \n",
            "                                                                 \n",
            " dense_7 (Dense)             (None, 10)                10010     \n",
            "                                                                 \n",
            "=================================================================\n",
            "Total params: 3,156,098\n",
            "Trainable params: 3,156,098\n",
            "Non-trainable params: 0\n",
            "_________________________________________________________________\n"
          ]
        }
      ]
    },
    {
      "cell_type": "code",
      "source": [
        "batch_size = 128\n",
        "epochs = 12\n",
        "model.compile(loss='categorical_crossentropy', optimizer='adam', metrics=['accuracy'])"
      ],
      "metadata": {
        "id": "dlIdnX1vaOxa"
      },
      "execution_count": 38,
      "outputs": []
    },
    {
      "cell_type": "code",
      "source": [
        "hist = model.fit(x_train, y_train, batch_size=batch_size,epochs=epochs,verbose=1,validation_data=(x_test, y_test))"
      ],
      "metadata": {
        "colab": {
          "base_uri": "https://localhost:8080/"
        },
        "id": "fMwotCnHbTxP",
        "outputId": "22a90905-9806-4e66-ec09-bcd0027c5ca0"
      },
      "execution_count": 39,
      "outputs": [
        {
          "output_type": "stream",
          "name": "stdout",
          "text": [
            "Epoch 1/12\n",
            "469/469 [==============================] - 15s 9ms/step - loss: 0.1862 - accuracy: 0.9432 - val_loss: 7.0001 - val_accuracy: 0.9827\n",
            "Epoch 2/12\n",
            "469/469 [==============================] - 3s 7ms/step - loss: 0.0598 - accuracy: 0.9811 - val_loss: 5.7348 - val_accuracy: 0.9886\n",
            "Epoch 3/12\n",
            "469/469 [==============================] - 3s 7ms/step - loss: 0.0461 - accuracy: 0.9859 - val_loss: 5.1538 - val_accuracy: 0.9887\n",
            "Epoch 4/12\n",
            "469/469 [==============================] - 3s 6ms/step - loss: 0.0365 - accuracy: 0.9885 - val_loss: 3.7812 - val_accuracy: 0.9908\n",
            "Epoch 5/12\n",
            "469/469 [==============================] - 3s 7ms/step - loss: 0.0298 - accuracy: 0.9905 - val_loss: 4.0627 - val_accuracy: 0.9914\n",
            "Epoch 6/12\n",
            "469/469 [==============================] - 3s 7ms/step - loss: 0.0267 - accuracy: 0.9915 - val_loss: 3.3332 - val_accuracy: 0.9933\n",
            "Epoch 7/12\n",
            "469/469 [==============================] - 3s 6ms/step - loss: 0.0237 - accuracy: 0.9923 - val_loss: 3.9769 - val_accuracy: 0.9921\n",
            "Epoch 8/12\n",
            "469/469 [==============================] - 3s 7ms/step - loss: 0.0215 - accuracy: 0.9931 - val_loss: 4.1383 - val_accuracy: 0.9924\n",
            "Epoch 9/12\n",
            "469/469 [==============================] - 3s 7ms/step - loss: 0.0181 - accuracy: 0.9941 - val_loss: 4.6638 - val_accuracy: 0.9913\n",
            "Epoch 10/12\n",
            "469/469 [==============================] - 3s 6ms/step - loss: 0.0153 - accuracy: 0.9949 - val_loss: 4.9326 - val_accuracy: 0.9923\n",
            "Epoch 11/12\n",
            "469/469 [==============================] - 3s 7ms/step - loss: 0.0160 - accuracy: 0.9945 - val_loss: 3.6476 - val_accuracy: 0.9936\n",
            "Epoch 12/12\n",
            "469/469 [==============================] - 3s 7ms/step - loss: 0.0154 - accuracy: 0.9948 - val_loss: 4.7368 - val_accuracy: 0.9930\n"
          ]
        }
      ]
    },
    {
      "cell_type": "code",
      "source": [
        "plt.figure(figsize=(12,8))\n",
        "#plt.plot(hist.history['loss’])\n",
        "#plt.plot(hist.history['val_loss'])\n",
        "plt.plot(hist.history['accuracy'])\n",
        "plt.plot(hist.history['val_accuracy'])\n",
        "#plt.legend(['loss','val_loss', 'acc','val_acc’])\n",
        "plt.legend(['acc','val_acc'])\n",
        "plt.show()"
      ],
      "metadata": {
        "colab": {
          "base_uri": "https://localhost:8080/",
          "height": 483
        },
        "id": "tgWJpWzVaSXo",
        "outputId": "831d22fb-1ba9-48cc-914a-26f924e085ca"
      },
      "execution_count": 40,
      "outputs": [
        {
          "output_type": "display_data",
          "data": {
            "text/plain": [
              "<Figure size 864x576 with 1 Axes>"
            ],
            "image/png": "[encoded data removed]"
          },
          "metadata": {
            "needs_background": "light"
          }
        }
      ]
    }
  ]
}